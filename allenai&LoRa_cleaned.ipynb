{
 "cells": [
  {
   "cell_type": "markdown",
   "metadata": {
    "id": "hMuqHEHKypyg"
   },
   "source": []
  },
  {
   "cell_type": "code",
   "execution_count": null,
   "metadata": {
    "colab": {
     "base_uri": "https://localhost:8080/"
    },
    "execution": {
     "iopub.execute_input": "2025-05-21T13:06:39.074807Z",
     "iopub.status.busy": "2025-05-21T13:06:39.074522Z",
     "iopub.status.idle": "2025-05-21T13:08:15.982596Z",
     "shell.execute_reply": "2025-05-21T13:08:15.981843Z",
     "shell.execute_reply.started": "2025-05-21T13:06:39.074788Z"
    },
    "id": "bitwlHo47DC9",
    "outputId": "b8d8fa7a-d0e3-44e8-808e-f10671697986"
   },
   "outputs": [],
   "source": [
    "import os\n",
    "os.environ[\"WANDB_DISABLED\"] = \"true\"\n",
    "\n",
    "!pip install -q transformers\n",
    "!pip install -q peft\n",
    "!pip install -q evaluate\n",
    "!pip install -q scikit-learn\n",
    "!pip install -q matplotlib seaborn\n",
    "!pip install -q datasets\n",
    "!pip install -q numpy"
   ]
  },
  {
   "cell_type": "code",
   "execution_count": null,
   "metadata": {
    "colab": {
     "base_uri": "https://localhost:8080/",
     "height": 464,
     "referenced_widgets": [
      "dc4dd0e6c32443bca53afa7a1d13d389",
      "7726ba64936e4d2299e5b1b27bbba4ad",
      "2ccecf4841974b539e84f45f6e68e3c9",
      "d60462f2eb3141ba8d2d1b29ddfaa2ca",
      "3713bd6a358440999e0ef0e8cbfd6100",
      "c3249ab38de24b96ba54c48151e6da01",
      "5357af0b08594e2bb6ca7d7f3c1afcf2",
      "304396082bb440a487d20ae32d576457",
      "6f4d7a1590b44875867c9891f37fcb89",
      "6aca78c168314e5ba7504957a9a2fc64",
      "5917ffbe913b45fe84c0ad3d89a8bbd0",
      "cff1d08836e44ade930e2b42806dbdb7",
      "b33292743b64425e8d620e9e1333722f",
      "f88475615b0944c8a459ce762ee2a33b",
      "62cc895b8f664e908e659adcfb3f02fe",
      "adcc7aed87774a94a36fb0b8ec739833",
      "f7ce299e3d8e4fe49a07dd9921effe94",
      "21e6abfd651e4878b49ff23588747f00",
      "5fe988c19e5d494dad114437399263b5",
      "9b920c96e2ae4d6f8b1fbc6e5709e810",
      "56462da15c934f7fa14beccb6b19d15a",
      "19c0087c29a14c92b031a1d31582b813",
      "a578757fee9d48d0adf39f37de46fdc0",
      "22526e271b8443839a95f143953d4804",
      "1a525732ad594b4ea464750a95d8f489",
      "b00e5a18eddb4f93bb15942e63a6a608",
      "45dd66bd6659400f8304f478df4567d0",
      "31780cdcbc684271b41bcedf819739bc",
      "7644a2f974f04f0f9ecfc3b55aef1618",
      "c06b02846f7b459a98e446c415389556",
      "2d04f808b0134ec1bc95a983cd6d276a",
      "f0ea46c91f3c41acafae4281cfe4e8fd",
      "fe56ea3434434fc2a9ce435a49db3488",
      "2cf4ff2626404916a35393a54ddc3215",
      "294c3d1faf3f4dcc92db19d433d65c06",
      "2fac651f0156462dbdf1b65b03afef0f",
      "d8501437eb394de690a834e46797811b",
      "70d3f585def747e8918f5a1926e280b2",
      "2ef5fd265a6e49d589bf505503772339",
      "0211c12f2ded4d89bcdbde2f7bb74308",
      "e33c8e50b7fc4da0b0fd9ab5161f1216",
      "9e37503d991f4b059f855cb95319bd27",
      "f9c32bffc2164a2bbeeda4f3cfaeeba4",
      "e899f99fb9524f2fbe216c15b483bcb5",
      "7bac3a31f97e42be808121720438a4c6",
      "6e7726dd13944ebc9fd02156db362c83",
      "a4ef5978b66d4a8f8b0c36b938361feb",
      "e1584484e6bc43f883eba782a2e4bcd3",
      "8bd8e2a117b54672b7a351149c4cfffb",
      "f0e574d5db3842b39b6d5d5bf3ae09c0",
      "ccf477b9bf9049fea2ba1e45bed72c6f",
      "0d436af982d34398b2516890ea41dfcb",
      "48eefcadfccd4b369dbf94fe8d3a502a",
      "bbb085b2583344ed96bbd3488e5dda20",
      "1b2c1603aebd4f3fb53ff3ce1a625601",
      "e09cddbf6c9643568e32a69010406aa8",
      "887ab23cae654473b385a47687dbfc1f",
      "77495921de6c47d797901ef9e502607e",
      "f3928dea01de44c18e7f525bceadbf1b",
      "09dea63731c14230bfb2b6e4de8fdde2",
      "c9a1936fcc304a2ca77b5cb61d80a638",
      "f357e1643153499f87fd2b3efe14c834",
      "4d6ffbf87e1d4ad5a5bd6b323d71f62d",
      "fef0be0298274ede8384d24fa097919b",
      "1b9d414495634bec98b13c806c89912d",
      "29e423f518904f1eaa9e08664e282920",
      "7196de0eb5294c9898aaa1f7025713f0",
      "d8b059d8238748478b36f66904a52325",
      "e9c208cabccc47b6863149c284167f22",
      "37270a34bc06468fa69fd98e7d87fa7d",
      "fb8898d3b26c428e8f163db36736fa2e",
      "f5cf04da751640b8bba556a84968a509",
      "0708e80bb2b84d888adf4f87cfc4c893",
      "482c365fdd7440f8b1c70494e13e27a7",
      "0e8f83a32a974aadaf13c50683ac193b",
      "b690e06b735b4736b959ef48e55312ca",
      "065cf6c4ac5e469a80d495f9535ad7e9",
      "41516e27352543999edabf65efc90a7e",
      "0ee0b08fc8464439ac02b1cb398528bc",
      "4ba8e93870f1404cb60be03cbc094653",
      "5f10f6e62ae948d6bbb97d69d2ad8b33",
      "14cbf181fe814a8d9f8f07366acb0963",
      "887c98170a714860a5aa608fe09eb9bc",
      "e8b624c6a9b844a583a1b3269ff438d7",
      "8aedc826780540da91eca46d0e1c9205",
      "38c8c7c2501346dea58c064044bf6c7a",
      "02a031a5bae346b0a5bb70c69e5406e2",
      "858cb914f18544049a7e9472ec343d34",
      "b8965230c91447e2b45816ab04c17592",
      "5d9bab6bfddb42eb8cfe39f80cdd6681",
      "794969dd7e384c47ae496dfd0850a87d",
      "3faa09a0a09448a39f456423de39c439",
      "879b4036bfe64b2b9407242afbd25d89",
      "23f0cbbf78db48a49f69808f0296e959",
      "ed25f475929f48ea86b902f43f3f329c",
      "d2df48745f134f4690b9c69ebbbbfd2a",
      "c1aa6642c5ff428fb4a19501f2c1fab2",
      "0c7fc489ab0a4149b2c6226c7d58bb5c",
      "72e197704a7d47d7b85087176fd99d21",
      "65b7a2d7fab545c0aafb25c97995bd4c",
      "afcba2cd7207497ca4c461f646b74f6a",
      "2ef030ac9e61457a87e8e55e4c75d479",
      "0b57392f0ef84466a5b9f25d09f74c1f",
      "ea623ed322cd42e7847b63c1199784aa",
      "3d736d51430a470485e78dfc2ffaa47c",
      "7590bbc5eca745daba93fb1e714e7c4d",
      "e9e22565027c4bb7908f244e6111b8ed",
      "e080d437c1ed4cffbc125f2738242bc0",
      "ac822387d3ef4027855a1cffc566300a",
      "eb0b6d03e8694370b6d730a863471d23",
      "ecc76b8e0f2e457e8b1b22fd01a5fe78",
      "32b03897fa3d46da8af42ddda475cbde",
      "83ea8d4f1f1f42b889c376339769d037",
      "0a66a64819cb4616b3fe29b6c7f579d1",
      "4fd2fab0b3644266a1f576403d1cbeb8",
      "b1c50e879fdc4345a3825ded4e4074ad",
      "53c3403ef0cf4f2d918901a7f713df2f",
      "a129b8ce1c034957926fa4fb29143d1f",
      "b38aa675428d4ac58c6cb3400ef163e0",
      "f494a8f1df424f72a0c9081dbaadd723"
     ]
    },
    "execution": {
     "iopub.execute_input": "2025-05-21T13:08:15.98407Z",
     "iopub.status.busy": "2025-05-21T13:08:15.983769Z",
     "iopub.status.idle": "2025-05-21T13:08:36.416604Z",
     "shell.execute_reply": "2025-05-21T13:08:36.416066Z",
     "shell.execute_reply.started": "2025-05-21T13:08:15.984035Z"
    },
    "id": "WwYDTMfm7Ut8",
    "outputId": "d23aec4f-11d0-48a3-e87b-e8ac19fea6dc"
   },
   "outputs": [],
   "source": [
    "from datasets import load_dataset\n",
    "\n",
    "# Loading the full dataset\n",
    "dataset = load_dataset(\"ccdv/arxiv-classification\")"
   ]
  },
  {
   "cell_type": "code",
   "execution_count": null,
   "metadata": {
    "colab": {
     "base_uri": "https://localhost:8080/"
    },
    "execution": {
     "iopub.execute_input": "2025-05-21T13:08:36.418452Z",
     "iopub.status.busy": "2025-05-21T13:08:36.418118Z",
     "iopub.status.idle": "2025-05-21T13:08:36.422605Z",
     "shell.execute_reply": "2025-05-21T13:08:36.421898Z",
     "shell.execute_reply.started": "2025-05-21T13:08:36.418435Z"
    },
    "id": "r06y9ghcPaBV",
    "outputId": "8fab3e18-4d5a-4b96-ff90-f3f712ea9920"
   },
   "outputs": [],
   "source": [
    "print(dataset[\"train\"].column_names)"
   ]
  },
  {
   "cell_type": "code",
   "execution_count": null,
   "metadata": {
    "colab": {
     "base_uri": "https://localhost:8080/"
    },
    "execution": {
     "iopub.execute_input": "2025-05-21T13:08:36.423772Z",
     "iopub.status.busy": "2025-05-21T13:08:36.423416Z",
     "iopub.status.idle": "2025-05-21T13:08:42.301691Z",
     "shell.execute_reply": "2025-05-21T13:08:42.300905Z",
     "shell.execute_reply.started": "2025-05-21T13:08:36.423747Z"
    },
    "id": "R5b5JfG5Jayp",
    "outputId": "aef9cdc8-b75e-4325-9808-c0d4c3c776e5"
   },
   "outputs": [],
   "source": [
    "print(dataset['train'][0])"
   ]
  },
  {
   "cell_type": "code",
   "execution_count": null,
   "metadata": {
    "colab": {
     "base_uri": "https://localhost:8080/"
    },
    "execution": {
     "iopub.execute_input": "2025-05-21T13:08:42.302461Z",
     "iopub.status.busy": "2025-05-21T13:08:42.302241Z",
     "iopub.status.idle": "2025-05-21T13:08:43.232274Z",
     "shell.execute_reply": "2025-05-21T13:08:43.23141Z",
     "shell.execute_reply.started": "2025-05-21T13:08:42.302442Z"
    },
    "id": "0YpWlHy8KYfp",
    "outputId": "d599a4c6-9050-4488-a7e2-df8b9c273f8a"
   },
   "outputs": [],
   "source": [
    "unique_labels = list(set(dataset['train']['label']))\n",
    "print(f\"Number of unique labels: {len(unique_labels)}\")\n",
    "print(f\"Unique labels:{(unique_labels)}\")"
   ]
  },
  {
   "cell_type": "code",
   "execution_count": null,
   "metadata": {
    "colab": {
     "base_uri": "https://localhost:8080/",
     "height": 1000
    },
    "execution": {
     "iopub.execute_input": "2025-05-21T13:08:43.233341Z",
     "iopub.status.busy": "2025-05-21T13:08:43.233079Z",
     "iopub.status.idle": "2025-05-21T13:08:50.795957Z",
     "shell.execute_reply": "2025-05-21T13:08:50.795318Z",
     "shell.execute_reply.started": "2025-05-21T13:08:43.233317Z"
    },
    "id": "qPCukezqP2ps",
    "outputId": "43b97959-72a2-41e6-e231-781c88b92130"
   },
   "outputs": [],
   "source": [
    "import pandas as pd\n",
    "import matplotlib.pyplot as plt\n",
    "import seaborn as sns\n",
    "\n",
    "def plot_label_distribution(split_name):\n",
    "    \n",
    "    # Extract labels\n",
    "    labels = dataset[split_name][\"label\"]\n",
    "    df = pd.DataFrame(labels, columns=[\"label\"])\n",
    "    value_counts = df[\"label\"].value_counts().sort_index()\n",
    "\n",
    "    # Plot\n",
    "    plt.figure(figsize=(12, 4))\n",
    "    sns.barplot(x=value_counts.index, y=value_counts.values, palette=\"viridis\")\n",
    "    plt.title(f\"Label Distribution in {split_name} set\")\n",
    "    plt.xlabel(\"Label ID\")\n",
    "    plt.ylabel(\"Count\")\n",
    "    plt.xticks(rotation=90)\n",
    "    plt.tight_layout()\n",
    "    plt.show()\n",
    "\n",
    "    # Print imbalance info\n",
    "    print(f\"\\n {split_name.upper()} - label min/max count:\")\n",
    "    print(f\"Min: {value_counts.min()}, Max: {value_counts.max()}, Unique labels: {value_counts.shape[0]}\")\n",
    "    if value_counts.min() / value_counts.max() < 0.5:\n",
    "        print(\"Potential imbalance detected!\")\n",
    "    else:\n",
    "        print(\"Labels appear relatively balanced.\")\n",
    "\n",
    "    # Check for missing values\n",
    "    print(\"\\n Checking for missing values:\")\n",
    "    df_check = pd.DataFrame(dataset[split_name])\n",
    "    print(df_check.isnull().sum())\n",
    "\n",
    "# Plot for each split\n",
    "for split in [\"train\", \"validation\", \"test\"]:\n",
    "    plot_label_distribution(split)\n"
   ]
  },
  {
   "cell_type": "code",
   "execution_count": null,
   "metadata": {
    "colab": {
     "base_uri": "https://localhost:8080/",
     "height": 177,
     "referenced_widgets": [
      "e10a682ffc8644b4967098474ff63c03",
      "9b1e555e314f460688ebcec734ee5f34",
      "04d7ca18d76d43c1b79c3bea4bdcc923",
      "c88ca8fe44c84c16902f11fa708cca50",
      "57826257c91c4e8b9bbfbf9fe1a66911",
      "57d32a056b404e06ad06b923a5e4d791",
      "3fa81584b8c74279a8ffaca250e55478",
      "89d81159081a4c7bbbe60ed47f25fa5e",
      "e3056dcb9ff94f2f8ef60fd2822d7749",
      "31d69e62d3b540d1a46630b8e29cabf2",
      "73f57dd2d9bf4ed4a1be3f8c988bb976",
      "2a05dbe49cfc4c74923e32fa5da5b40d",
      "c2e3c6ee9dfa461482511da2a32da86d",
      "ab4c97737faf4d11b3ea89e9470f5447",
      "1364f59c510b4b2c986adc3d4396a6cb",
      "8296f77d58e0400dab406d7710d52f27",
      "81f1f928d40842dd8355e5331540cb2b",
      "77d47f32d3fd4f0c9916173a0d97ac76",
      "df18b14c03ee4c2c939c6d9357c47ddf",
      "9452ae489a9f4079a68959709240ce24",
      "2284ce1c004943ad8419beae4f3e31e9",
      "1305413a74f647f7803d3a0c7ecb5f5f",
      "4d249db1e7264e478c3ceafc561465f3",
      "a655d25225f04b6191eac3ecc7808134",
      "247e651e7e704515abc94d0830ed2318",
      "1fdb5f79ede54452b01db14521cb65c5",
      "12fcfa712f30419ca73de6f980a3a36f",
      "6a3aa7bb738b47b5819c2372daf206a7",
      "0c4743188d7e4234aeb4d307ee3a53c1",
      "6d825995d5ab43d3a9927baf06742ad7",
      "7c4321a713ff47c595e2ce2f56f88c37",
      "85587192c1a146af891fbb37ec6d8dc9",
      "c3972596991e410aabc00d8346d5e1f4",
      "1cca5a009c2d446e91c71f4435b3f575",
      "3124af79d7de46b5ad2a3f729a49eeae",
      "be7a58bb731b450587879196260bb641",
      "5a4f56b3500d4abbb3eca69449c09144",
      "8b5a4107778a44c2a1c70d581d98b707",
      "2675859a6d6648c2b183566c21708f21",
      "5ca47d366189434c8c82a99f2a0fb7fe",
      "910885c14fc543daab3e2f7cbfc03071",
      "545d866a15544555af0b282e0b453d81",
      "923e2af48b9e484394ae9d41d225299d",
      "7707b533f3424a81bfbed39e08de233f",
      "f15c001b556b4f6aa96369f0b3bef7aa",
      "107cb57f91ff4c73b334d65dc3541f16",
      "7f6b190353a44860a792af69cf95e877",
      "dfb7ee16de68484fa84706c1f26cdbee",
      "374d3e3356464ba8903040ebfab6025a",
      "dc28ab355bc7440fb2accac6e65a16c3",
      "182f29b0bf0c46db83d8d1eeadf86326",
      "02e078b548e645ce9764a44d425e0558",
      "f28ff23797f24122844c94d11507cbb4",
      "8bfbdd293dec4f3b9521228bff78f53a",
      "b756203b4c734993a1c9e33f34cc42d4",
      "8121f7cc31d6424b9d37f3b33d6025c3",
      "65d7c77fb2344745a1cdfc41dca37b35",
      "301fd6e5c81146c99040ed7a68323f20",
      "db4703f0251b45249fd2f8a73b1088ab",
      "823a9bce0503435eb33a81c583f38230"
     ]
    },
    "execution": {
     "iopub.execute_input": "2025-05-21T13:08:50.797036Z",
     "iopub.status.busy": "2025-05-21T13:08:50.796657Z",
     "iopub.status.idle": "2025-05-21T13:20:18.459459Z",
     "shell.execute_reply": "2025-05-21T13:20:18.458685Z",
     "shell.execute_reply.started": "2025-05-21T13:08:50.79701Z"
    },
    "id": "y-kPsdDnKmxa",
    "outputId": "cf703074-d95b-4793-f16e-073fd055ee16"
   },
   "outputs": [],
   "source": [
    "from transformers import AutoTokenizer\n",
    "\n",
    "# Tokenizer\n",
    "tokenizer = AutoTokenizer.from_pretrained(\"allenai/scibert_scivocab_uncased\")\n",
    "\n",
    "# Tokenization function\n",
    "def tokenize_function(example):\n",
    "    return tokenizer(example[\"text\"], padding=\"max_length\", truncation=True, max_length=512)\n",
    "\n",
    "\n",
    "tokenized_train = dataset[\"train\"].map(tokenize_function, batched=True)\n",
    "tokenized_val = dataset[\"validation\"].map(tokenize_function, batched=True)\n",
    "tokenized_test = dataset[\"test\"].map(tokenize_function, batched=True)"
   ]
  },
  {
   "cell_type": "code",
   "execution_count": null,
   "metadata": {
    "execution": {
     "iopub.execute_input": "2025-05-21T13:20:18.460715Z",
     "iopub.status.busy": "2025-05-21T13:20:18.460454Z",
     "iopub.status.idle": "2025-05-21T13:20:18.465342Z",
     "shell.execute_reply": "2025-05-21T13:20:18.464816Z",
     "shell.execute_reply.started": "2025-05-21T13:20:18.460695Z"
    },
    "id": "Bp7MwQh8IZpR"
   },
   "outputs": [],
   "source": [
    "# Metrics\n",
    "\n",
    "from sklearn.metrics import accuracy_score, precision_recall_fscore_support\n",
    "import numpy as np\n",
    "\n",
    "def compute_metrics(pred):\n",
    "    preds = np.argmax(pred.predictions, axis=1)\n",
    "    labels = pred.label_ids\n",
    "    precision, recall, f1, _ = precision_recall_fscore_support(labels, preds, average='weighted')\n",
    "    acc = accuracy_score(labels, preds)\n",
    "    return {\n",
    "        'accuracy': acc,\n",
    "        'f1': f1,\n",
    "        'precision': precision,\n",
    "        'recall': recall\n",
    "    }"
   ]
  },
  {
   "cell_type": "code",
   "execution_count": null,
   "metadata": {
    "colab": {
     "base_uri": "https://localhost:8080/",
     "referenced_widgets": [
      "819b6d3a0c1648299d7cf7ad30198daf"
     ]
    },
    "execution": {
     "iopub.execute_input": "2025-05-21T13:20:18.467885Z",
     "iopub.status.busy": "2025-05-21T13:20:18.467695Z",
     "iopub.status.idle": "2025-05-21T13:20:41.318521Z",
     "shell.execute_reply": "2025-05-21T13:20:41.317733Z",
     "shell.execute_reply.started": "2025-05-21T13:20:18.467871Z"
    },
    "id": "w4W7haf4IcDF",
    "outputId": "1ecc55c2-0e50-4600-cf2d-2cd765cbca41"
   },
   "outputs": [],
   "source": [
    "# Model\n",
    "\n",
    "from transformers import AutoModelForSequenceClassification\n",
    "\n",
    "# Extract the label mapping from the dataset\n",
    "label_list = tokenized_train.features[\"label\"].names\n",
    "label2id = {label: i for i, label in enumerate(label_list)}\n",
    "id2label = {i: label for i, label in enumerate(label_list)}\n",
    "\n",
    "model = AutoModelForSequenceClassification.from_pretrained(\n",
    "    \"allenai/scibert_scivocab_uncased\",\n",
    "    num_labels=11,\n",
    "    id2label=id2label,\n",
    "    label2id=label2id\n",
    ")"
   ]
  },
  {
   "cell_type": "code",
   "execution_count": null,
   "metadata": {
    "colab": {
     "base_uri": "https://localhost:8080/",
     "referenced_widgets": [
      "0265b975326a4219b88fcea6cea97b73"
     ]
    },
    "execution": {
     "iopub.execute_input": "2025-05-21T13:20:41.31995Z",
     "iopub.status.busy": "2025-05-21T13:20:41.319314Z",
     "iopub.status.idle": "2025-05-21T13:20:41.740209Z",
     "shell.execute_reply": "2025-05-21T13:20:41.739563Z",
     "shell.execute_reply.started": "2025-05-21T13:20:41.319923Z"
    },
    "id": "8Grl2SNaIiCa",
    "outputId": "8d351437-9586-4e5c-d67b-63dd8521035f"
   },
   "outputs": [],
   "source": [
    "# Apply LoRA\n",
    "\n",
    "from peft import LoraConfig, TaskType, get_peft_model\n",
    "\n",
    "lora_config = LoraConfig(\n",
    "    task_type=TaskType.SEQ_CLS,\n",
    "    r=8,\n",
    "    lora_alpha=16,\n",
    "    lora_dropout=0.1\n",
    ")\n",
    "\n",
    "model = get_peft_model(model, lora_config)\n",
    "model.print_trainable_parameters()"
   ]
  },
  {
   "cell_type": "code",
   "execution_count": null,
   "metadata": {
    "colab": {
     "base_uri": "https://localhost:8080/"
    },
    "execution": {
     "iopub.execute_input": "2025-05-21T13:20:41.741105Z",
     "iopub.status.busy": "2025-05-21T13:20:41.740908Z",
     "iopub.status.idle": "2025-05-21T13:20:44.645565Z",
     "shell.execute_reply": "2025-05-21T13:20:44.644795Z",
     "shell.execute_reply.started": "2025-05-21T13:20:41.741089Z"
    },
    "id": "RSUo7p7JIsmo",
    "outputId": "4cb625fc-2461-42c1-a8e7-8b54d98c38ab"
   },
   "outputs": [],
   "source": [
    "# Training arguments\n",
    "\n",
    "from transformers import TrainingArguments, Trainer, DataCollatorWithPadding\n",
    "\n",
    "training_args = TrainingArguments(\n",
    "    output_dir=\"./results_arx\",\n",
    "    eval_strategy=\"epoch\",\n",
    "    learning_rate=5e-5,\n",
    "    per_device_train_batch_size=16,\n",
    "    per_device_eval_batch_size=16,\n",
    "    num_train_epochs=10,\n",
    "    weight_decay=0.01,\n",
    "    save_total_limit=2,\n",
    "    load_best_model_at_end=True,\n",
    "    logging_dir=\"./logs\",\n",
    "    logging_steps=100,\n",
    "    fp16=True,\n",
    "    warmup_ratio = 0.1,\n",
    "    metric_for_best_model=\"eval_loss\",\n",
    "    save_strategy=\"epoch\",\n",
    "    run_name=\"arxiv-classification\",\n",
    "    report_to=None,\n",
    ")"
   ]
  },
  {
   "cell_type": "code",
   "execution_count": null,
   "metadata": {
    "execution": {
     "iopub.execute_input": "2025-05-21T13:20:44.646746Z",
     "iopub.status.busy": "2025-05-21T13:20:44.646449Z",
     "iopub.status.idle": "2025-05-21T13:20:44.650743Z",
     "shell.execute_reply": "2025-05-21T13:20:44.650072Z",
     "shell.execute_reply.started": "2025-05-21T13:20:44.646724Z"
    },
    "id": "599d17aa-74cd-442a-a53d-4597eedf16ee"
   },
   "outputs": [],
   "source": [
    "from transformers import DataCollatorWithPadding\n",
    "\n",
    "data_collator = DataCollatorWithPadding(tokenizer=tokenizer)"
   ]
  },
  {
   "cell_type": "code",
   "execution_count": null,
   "metadata": {
    "colab": {
     "base_uri": "https://localhost:8080/"
    },
    "execution": {
     "iopub.execute_input": "2025-05-21T13:20:44.651953Z",
     "iopub.status.busy": "2025-05-21T13:20:44.651612Z",
     "iopub.status.idle": "2025-05-21T13:20:45.611626Z",
     "shell.execute_reply": "2025-05-21T13:20:45.610858Z",
     "shell.execute_reply.started": "2025-05-21T13:20:44.651934Z"
    },
    "id": "ziMcE-EZVRSg",
    "outputId": "b53a40a1-afdb-4e89-bd64-7076c4caa734"
   },
   "outputs": [],
   "source": [
    "from transformers import EarlyStoppingCallback\n",
    "\n",
    "trainer = Trainer(\n",
    "    model=model,\n",
    "    args=training_args,\n",
    "    train_dataset=tokenized_train,\n",
    "    eval_dataset=tokenized_val,\n",
    "    compute_metrics=compute_metrics,\n",
    "    data_collator=data_collator,\n",
    "    callbacks=[EarlyStoppingCallback(early_stopping_patience=2)],\n",
    "    tokenizer=tokenizer\n",
    ")"
   ]
  },
  {
   "cell_type": "code",
   "execution_count": null,
   "metadata": {
    "colab": {
     "base_uri": "https://localhost:8080/",
     "height": 144
    },
    "execution": {
     "iopub.execute_input": "2025-05-21T13:20:45.6127Z",
     "iopub.status.busy": "2025-05-21T13:20:45.612462Z",
     "iopub.status.idle": "2025-05-21T16:30:00.11014Z",
     "shell.execute_reply": "2025-05-21T16:30:00.109589Z",
     "shell.execute_reply.started": "2025-05-21T13:20:45.612683Z"
    },
    "id": "WO6yzBj8VXVU",
    "outputId": "aea816ee-4275-4a49-b3de-f665ba9b3dfa"
   },
   "outputs": [],
   "source": [
    "trainer.train()"
   ]
  },
  {
   "cell_type": "code",
   "execution_count": null,
   "metadata": {
    "execution": {
     "iopub.execute_input": "2025-05-21T16:30:00.111069Z",
     "iopub.status.busy": "2025-05-21T16:30:00.110869Z",
     "iopub.status.idle": "2025-05-21T16:30:41.525319Z",
     "shell.execute_reply": "2025-05-21T16:30:41.524738Z",
     "shell.execute_reply.started": "2025-05-21T16:30:00.111054Z"
    },
    "id": "3vmK0Z_wTEX_",
    "outputId": "bd99a09f-20fe-441d-b18b-79072b5d96de"
   },
   "outputs": [],
   "source": [
    "from sklearn.metrics import classification_report\n",
    "\n",
    "# Get predictions on the validation set\n",
    "predictions = trainer.predict(tokenized_val)\n",
    "\n",
    "# Extract logits (probabilities) and true labels\n",
    "preds = predictions.predictions.argmax(axis=1)\n",
    "labels = predictions.label_ids\n",
    "\n",
    "print(classification_report(labels, preds, target_names=label_list))"
   ]
  },
  {
   "cell_type": "code",
   "execution_count": null,
   "metadata": {
    "execution": {
     "iopub.execute_input": "2025-05-21T16:30:41.526211Z",
     "iopub.status.busy": "2025-05-21T16:30:41.525976Z",
     "iopub.status.idle": "2025-05-21T16:30:41.915848Z",
     "shell.execute_reply": "2025-05-21T16:30:41.915065Z",
     "shell.execute_reply.started": "2025-05-21T16:30:41.526187Z"
    },
    "id": "7awBQgM7YddL",
    "outputId": "6121f103-9df3-48ae-c367-fe20d75692d8"
   },
   "outputs": [],
   "source": [
    "from sklearn.metrics import confusion_matrix, ConfusionMatrixDisplay\n",
    "import matplotlib.pyplot as plt\n",
    "\n",
    "# Constructing the confusion matrix\n",
    "cm = confusion_matrix(labels, preds)\n",
    "\n",
    "# Visualizing the matrix\n",
    "disp = ConfusionMatrixDisplay(confusion_matrix=cm, display_labels=label_list)\n",
    "fig, ax = plt.subplots(figsize=(10, 10))\n",
    "disp.plot(ax=ax, cmap='Blues', xticks_rotation=45)\n",
    "plt.title(\"Confusion Matrix\")\n",
    "plt.show()"
   ]
  },
  {
   "cell_type": "code",
   "execution_count": null,
   "metadata": {
    "execution": {
     "iopub.execute_input": "2025-05-21T16:30:41.916832Z",
     "iopub.status.busy": "2025-05-21T16:30:41.916609Z",
     "iopub.status.idle": "2025-05-21T16:31:23.318157Z",
     "shell.execute_reply": "2025-05-21T16:31:23.317364Z",
     "shell.execute_reply.started": "2025-05-21T16:30:41.916816Z"
    },
    "id": "k7YIW91zYqeQ",
    "outputId": "b1f178e6-a6f9-4a14-e4e0-57cfd099f7d2"
   },
   "outputs": [],
   "source": [
    "# Get predictions on the test set\n",
    "\n",
    "test_predictions = trainer.predict(tokenized_test)\n",
    "test_preds = test_predictions.predictions.argmax(axis=1)\n",
    "test_labels = test_predictions.label_ids\n",
    "\n",
    "print(classification_report(test_labels, test_preds, target_names=label_list))"
   ]
  }
 ],
 "metadata": {
  "accelerator": "GPU",
  "colab": {
   "gpuType": "T4",
   "name": "allenai&LoRa",
   "provenance": []
  },
  "kaggle": {
   "accelerator": "gpu",
   "dataSources": [],
   "dockerImageVersionId": 31041,
   "isGpuEnabled": true,
   "isInternetEnabled": true,
   "language": "python",
   "sourceType": "notebook"
  },
  "kernelspec": {
   "display_name": "Python 3",
   "language": "python",
   "name": "python3"
  },
  "language_info": {
   "codemirror_mode": {
    "name": "ipython",
    "version": 3
   },
   "file_extension": ".py",
   "mimetype": "text/x-python",
   "name": "python",
   "nbconvert_exporter": "python",
   "pygments_lexer": "ipython3",
   "version": "3.11.11"
  }
 },
 "nbformat": 4,
 "nbformat_minor": 0
}
