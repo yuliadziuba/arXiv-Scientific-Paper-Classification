{
 "cells": [
  {
   "cell_type": "markdown",
   "metadata": {
    "id": "hMuqHEHKypyg"
   },
   "source": []
  },
  {
   "cell_type": "code",
   "execution_count": null,
   "metadata": {
    "execution": {
     "iopub.execute_input": "2025-05-20T07:07:56.660419Z",
     "iopub.status.busy": "2025-05-20T07:07:56.660182Z",
     "iopub.status.idle": "2025-05-20T07:07:56.667275Z",
     "shell.execute_reply": "2025-05-20T07:07:56.666554Z",
     "shell.execute_reply.started": "2025-05-20T07:07:56.660396Z"
    },
    "id": "u6gTUp9V6rb4"
   },
   "outputs": [],
   "source": [
    "import os\n",
    "os.environ[\"WANDB_DISABLED\"] = \"true\""
   ]
  },
  {
   "cell_type": "code",
   "execution_count": null,
   "metadata": {
    "colab": {
     "base_uri": "https://localhost:8080/"
    },
    "execution": {
     "iopub.execute_input": "2025-05-20T07:07:56.669157Z",
     "iopub.status.busy": "2025-05-20T07:07:56.668982Z",
     "iopub.status.idle": "2025-05-20T07:09:30.08495Z",
     "shell.execute_reply": "2025-05-20T07:09:30.084291Z",
     "shell.execute_reply.started": "2025-05-20T07:07:56.669141Z"
    },
    "id": "bitwlHo47DC9",
    "outputId": "fb492c17-419a-4181-d68a-f1515e26a884"
   },
   "outputs": [],
   "source": [
    "!pip install -q transformers\n",
    "!pip install -q peft\n",
    "!pip install -q evaluate\n",
    "!pip install -q scikit-learn\n",
    "!pip install -q matplotlib seaborn\n",
    "!pip install -q datasets\n",
    "!pip install -q numpy"
   ]
  },
  {
   "cell_type": "code",
   "execution_count": null,
   "metadata": {
    "colab": {
     "base_uri": "https://localhost:8080/"
    },
    "execution": {
     "iopub.execute_input": "2025-05-20T07:09:30.086112Z",
     "iopub.status.busy": "2025-05-20T07:09:30.085857Z",
     "iopub.status.idle": "2025-05-20T07:09:33.340818Z",
     "shell.execute_reply": "2025-05-20T07:09:33.339933Z",
     "shell.execute_reply.started": "2025-05-20T07:09:30.086077Z"
    },
    "id": "s1kAbxDzQq_L",
    "outputId": "63ec5080-559d-472f-8c96-e6afa4579b3f"
   },
   "outputs": [],
   "source": [
    "!pip install -U datasets"
   ]
  },
  {
   "cell_type": "code",
   "execution_count": null,
   "metadata": {
    "colab": {
     "base_uri": "https://localhost:8080/",
     "height": 376,
     "referenced_widgets": [
      "e7d27569797a4236840475e06021aa1c",
      "59dbb046523349feb0cbb1d466f124f6",
      "9abc36a81d9b416280275b399dba2815",
      "121486160fe84f79b0970ca8954e8d28",
      "1708b0e0ee8647779633890cb97af74c",
      "2c7bf8f8485d47aa994c9a03f0c04f1c",
      "ca0e89f0d3064e8ba0e9657964292f9b",
      "249f28c164b243108cc442111cc21299",
      "aca50855bca54d3e8a1438fc8f8f562a",
      "2b58873a0306476783d8c9a6789cebbb",
      "5fea4d361dc249f9b7040e0f5518dfe5",
      "0edb5919ac194776aeaaa4dc50fcfa27",
      "42f4f7b24cfa42519a6ea5c4915ce9c6",
      "874128f1976443b2a536641fd8e7f794",
      "e1a5204f1af3489986ceb89c6c005ece",
      "5b27fe175f484c95a3c6f2d624071c5e",
      "0fc17d14df2e4148a95d3757c90e483b",
      "6e9b9ed767d94066a52a9d2404cc134e",
      "bf66fc12e87d41b7bd2b0281652359cc",
      "a49c2434fc34461d90ddc34329032407",
      "130b052a7471477b9b1e6633f1388809",
      "df2b888f17ff4f7490f39830bc407126",
      "d1c5f97a66f143b79c48f29915e867cf",
      "eb2321ef79264abe8b4c4ae403e4a4d1",
      "1e968be5656b48b5b754fed90bb17359",
      "62ec1913aed346a88ca4883801cb5b5b",
      "cf798f15eeb647b9afbf82498f254a8b",
      "c2b18431825f4c5ea051549e56c00206",
      "7db0ab33346f4fdd8d9f5019eface1f3",
      "803658e4ccc7419fa6b9d51120ebeb59",
      "3187e931d84b4d8e8de3a8cdbcaf8274",
      "3e0ea31e43de40da84b5821a4c76facc",
      "5aa55c5c496f486ea207fe81d7f36576",
      "485d660955244fb4900a19cfe5de1ffa",
      "dc5b1767ede94da99564f9249becefdc",
      "0c90d0b8891c43bea922c5f209f5adc2",
      "352431c95d6648e3a8092e4770093b56",
      "4ffcfcc13f6045dba66d668f4d01b4d8",
      "f6781b3d5fa64315a039f0a9067731d8",
      "e1a8295dccb344a1b8b3a4d6df62af96",
      "139277373e6b4201bf47430d2f92f716",
      "27344aebb9d9409bba13190d6bd26b23",
      "5c97a1addcc64e8c9118e7bb7042fae2",
      "294e2d7e344a47839155f5f174c5b582",
      "281867675dd34671b3f4500f1cc129a4",
      "0deab3f729e54bd7b9a9044888d1576f",
      "4472fb60d5c94515bbe3076b563436f6",
      "4bce7fb1f2da45cba0e7d26f9433db4c",
      "ec8eafcd67914ed6ab1bb92b2692427f",
      "de7ae73fb76d4da3ba411ba38bcf64e1",
      "d10002803827486a80253ef070352ec4",
      "cbc6775f25f44c6ab86e40155f334cca",
      "c4853729adbe4c5998520f59a8b70eb7",
      "fc50c304b43a499e9ee2d351f2e36e32",
      "e2e021fa57234d7b8eef2cd5ac664e2a",
      "53a174c7bb7e4546962d8ba08c07236c",
      "db18e0f50bea4790b8398590696c1549",
      "b09a2b1cc6474fd7ba2ca14afb2a2858",
      "e47fc4be41d842d3b796f5f791897477",
      "34dedc28103248eab3cd2da4b9d9d364",
      "11748513da4248688ce89e2955d2707f",
      "16ff8f0df7814daeb9b3e61f99f11b3e",
      "ad43952227164841874019ec7f42efb1",
      "44c95a729f1741f191771ac220537a58",
      "6b9c8e6e62894cfd89595062727adc49",
      "12a83ad6725c48f09379c3d7ae16580e",
      "3d7d3f15f8c94ca589bdc841416ea791",
      "a0a27a08ffac4b40b3b3674f45bf7be3",
      "9565c069621842f5838d9a061f2c38f6",
      "62465c8c6e264500b32630b3a8d269dc",
      "6a3b210a6c144e3388be46a9e23fb87c",
      "e9e30e81735b4218abd9b573b4fe9157",
      "21312eb59413440695d223a1a0ae6d0d",
      "9b14fbf7ab204288b37f0a7da8ac0d2c",
      "af11364a00d14293a6c170a7979591eb",
      "032af472c8ac48bd995b841a5d03f210",
      "3f8138bb49974f4b887937263e1ced95",
      "2681b16c49dd4f1fa7865e48cbb04b1f",
      "2e0b22ba4b914adb8e1ade6bd922fa8d",
      "f32a9b4971cf4d78822d991094bcbbdf",
      "47c6c6ed099c4944aebcbc83b17e13bf",
      "ff8e4bb000c64335b9a059ac5abaa6cd",
      "87303fbe5ad04e7c8a8cce394809afc3",
      "e324540eced74439900cf2016c025c31",
      "59ca320d4722496cb6b23fb7e069572b",
      "72e41cd8972b44f0bab5a0f8a3af55a2",
      "1285291e7c344b03b20e07b3492ca452",
      "ea1e5859b2104235834f3e5b70f16416",
      "95c73d8c156b4a14bdb698a011771a86",
      "ba02e231afaa4edba4d0776b1f5d70ab",
      "07242a993ab840888692c2e923e86450",
      "1d60141d6a84467b93620d9e8e19c05c",
      "e50a4c5d03a541b9acb24ff47e6b3e13",
      "c12a56d862654434a09e290e55d48a71",
      "25491ebbe89e4df1aec74e010bdd814a",
      "acb8728a40c44193b742e483bd58afc9",
      "704c089d871f4300a408c4233d0d2cf3",
      "9e83f9e4879440c8b62a12f5c684344d",
      "4b7e9f40459244779f0914df99bfc225",
      "30e42e664c4b43d485b1f37979b36193",
      "18f39ec4296742a49faa954c96a5509c",
      "efdc1d44d698422fa98c7c4dfe1909cc",
      "ef41e3bf38ac47fea8f134844fb7c5d6",
      "d18e58d40b8c40fb846919b28855b531",
      "843e3eb0e0354a0da57528284375e552",
      "64857d999ff94d068c33a9db9ee1c37a",
      "b1d4c8511d7d4e86877682fc2dd753a5",
      "53999cfe16fc4cd38fe879537d8d0082",
      "ebd1ae8bb9cc48fd8593ab419b446a08"
     ]
    },
    "execution": {
     "iopub.execute_input": "2025-05-20T07:09:33.342331Z",
     "iopub.status.busy": "2025-05-20T07:09:33.341999Z",
     "iopub.status.idle": "2025-05-20T07:09:56.134125Z",
     "shell.execute_reply": "2025-05-20T07:09:56.133418Z",
     "shell.execute_reply.started": "2025-05-20T07:09:33.342301Z"
    },
    "id": "WwYDTMfm7Ut8",
    "outputId": "0cb6f983-df57-4197-d0c2-7e6999641484"
   },
   "outputs": [],
   "source": [
    "from datasets import load_dataset\n",
    "\n",
    "# Loading the full dataset\n",
    "dataset = load_dataset(\"ccdv/arxiv-classification\")\n"
   ]
  },
  {
   "cell_type": "code",
   "execution_count": null,
   "metadata": {
    "colab": {
     "base_uri": "https://localhost:8080/"
    },
    "execution": {
     "iopub.execute_input": "2025-05-20T07:09:56.135518Z",
     "iopub.status.busy": "2025-05-20T07:09:56.134982Z",
     "iopub.status.idle": "2025-05-20T07:09:56.139677Z",
     "shell.execute_reply": "2025-05-20T07:09:56.138986Z",
     "shell.execute_reply.started": "2025-05-20T07:09:56.135487Z"
    },
    "id": "r06y9ghcPaBV",
    "outputId": "bfd5afab-f945-4e10-95b8-e01cbf67f682"
   },
   "outputs": [],
   "source": [
    "print(dataset[\"train\"].column_names)"
   ]
  },
  {
   "cell_type": "code",
   "execution_count": null,
   "metadata": {
    "colab": {
     "base_uri": "https://localhost:8080/"
    },
    "execution": {
     "iopub.execute_input": "2025-05-20T07:09:56.141047Z",
     "iopub.status.busy": "2025-05-20T07:09:56.140427Z",
     "iopub.status.idle": "2025-05-20T07:09:59.033323Z",
     "shell.execute_reply": "2025-05-20T07:09:59.032578Z",
     "shell.execute_reply.started": "2025-05-20T07:09:56.141029Z"
    },
    "id": "R5b5JfG5Jayp",
    "outputId": "4823baa0-c5e4-4484-d3bd-467db35fd206"
   },
   "outputs": [],
   "source": [
    "print(dataset['train'][0])"
   ]
  },
  {
   "cell_type": "code",
   "execution_count": null,
   "metadata": {
    "colab": {
     "base_uri": "https://localhost:8080/"
    },
    "execution": {
     "iopub.execute_input": "2025-05-20T07:09:59.036738Z",
     "iopub.status.busy": "2025-05-20T07:09:59.03652Z",
     "iopub.status.idle": "2025-05-20T07:09:59.902019Z",
     "shell.execute_reply": "2025-05-20T07:09:59.901293Z",
     "shell.execute_reply.started": "2025-05-20T07:09:59.036721Z"
    },
    "id": "0YpWlHy8KYfp",
    "outputId": "2b6c29aa-3f95-4396-bea1-d78af3728a10"
   },
   "outputs": [],
   "source": [
    "unique_labels = list(set(dataset['train']['label']))\n",
    "print(f\"Number of unique labels: {len(unique_labels)}\")\n",
    "print(f\"Unique labels:{(unique_labels)}\")"
   ]
  },
  {
   "cell_type": "code",
   "execution_count": null,
   "metadata": {
    "colab": {
     "base_uri": "https://localhost:8080/",
     "height": 1000
    },
    "execution": {
     "iopub.execute_input": "2025-05-20T07:09:59.903071Z",
     "iopub.status.busy": "2025-05-20T07:09:59.902876Z",
     "iopub.status.idle": "2025-05-20T07:10:08.152405Z",
     "shell.execute_reply": "2025-05-20T07:10:08.151783Z",
     "shell.execute_reply.started": "2025-05-20T07:09:59.903054Z"
    },
    "id": "qPCukezqP2ps",
    "outputId": "0781c2dd-b196-41ef-a958-a9c7b8637c94"
   },
   "outputs": [],
   "source": [
    "import pandas as pd\n",
    "import matplotlib.pyplot as plt\n",
    "import seaborn as sns\n",
    "\n",
    "def plot_label_distribution(split_name):\n",
    "    \n",
    "    # Extract labels\n",
    "    labels = dataset[split_name][\"label\"]\n",
    "    df = pd.DataFrame(labels, columns=[\"label\"])\n",
    "    value_counts = df[\"label\"].value_counts().sort_index()\n",
    "\n",
    "    # Plot\n",
    "    plt.figure(figsize=(12, 4))\n",
    "    sns.barplot(x=value_counts.index, y=value_counts.values, palette=\"viridis\")\n",
    "    plt.title(f\"Label Distribution in {split_name} set\")\n",
    "    plt.xlabel(\"Label ID\")\n",
    "    plt.ylabel(\"Count\")\n",
    "    plt.xticks(rotation=90)\n",
    "    plt.tight_layout()\n",
    "    plt.show()\n",
    "\n",
    "    # Print imbalance info\n",
    "    print(f\"\\n {split_name.upper()} - label min/max count:\")\n",
    "    print(f\"Min: {value_counts.min()}, Max: {value_counts.max()}, Unique labels: {value_counts.shape[0]}\")\n",
    "    if value_counts.min() / value_counts.max() < 0.5:\n",
    "        print(\"Potential imbalance detected!\")\n",
    "    else:\n",
    "        print(\"Labels appear relatively balanced.\")\n",
    "\n",
    "    # Check for missing values\n",
    "    print(\"\\n Checking for missing values:\")\n",
    "    df_check = pd.DataFrame(dataset[split_name])\n",
    "    print(df_check.isnull().sum())\n",
    "\n",
    "# Plot for each split\n",
    "for split in [\"train\", \"validation\", \"test\"]:\n",
    "    plot_label_distribution(split)\n"
   ]
  },
  {
   "cell_type": "code",
   "execution_count": null,
   "metadata": {
    "colab": {
     "base_uri": "https://localhost:8080/",
     "height": 113,
     "referenced_widgets": [
      "032f588b8b2142178076d419230475cf",
      "eeb80f5e510449b1b0eb6b8c125abf26",
      "a995c7444ba8486db97b3f771b5c10c9",
      "d1116e0d582547d2babb6d6d0dd6fa66",
      "8a04a72981b44d6a89a5ed6f4875d38a",
      "e900f406641c4d0d87a655fdbc325db0",
      "7ec71bebb2e1423c867a9183803a46c6",
      "b69906d0892346f6bb36138a02ab3ebe",
      "9fe8406f988747e6a78e9624e914a091",
      "02cb583e399b49e2a1dfbe534e7ecbaa",
      "aa72a73fb1274cc9a446d3435258d8b8",
      "2d8d95fcd67d4ccda494b135c3e5cc08",
      "1d5d47a98c9242388a574adad29a2dfa",
      "6b046ec73e5c4da39c2e6098cf87846a",
      "3a7b130d1a6e45df8aa2db81be5a1473",
      "e8b4432fbc304607b61f4567206a6aca",
      "d6b113c7b6f646cf88d8d5febdef0b18",
      "66149db15f9341fc89fb92fcef673853",
      "f797ca8a6089424cb5ba6b907ef20aec",
      "70fd29914f35447381dfd3149c10d5d0",
      "2c1ee3a80a8345f99fa66824ec4be2e6",
      "c8607f24705144b9b70a055da682ed82",
      "a0c07f278c874d97a518ca16fd0c889c",
      "5b1dd070d415428aa22d03f508530acc",
      "47e0784f19ee4274aa5055dd3cb44552",
      "9c5fe63f508043e2b8faa31c1ce30d48",
      "d5a931063e754685ba92ba4318081d9b",
      "98f54292778e422795aaf830f9531943",
      "c7d6dc65ca3540738fff1d142d08fa68",
      "a6e35408f1fc4c188af80a63fecbd2bd",
      "5127a934385943cfab4b4afc9c529d85",
      "92e196e96d9f493dab0d59c0a56a2a33",
      "107bb22695834f919fb40daae26d1cb2",
      "c09d8e673f52464aa5fdcf58f38d3ee2",
      "59926ffbd895422c9602610c71903ac9",
      "3055817630224d77a6b839f05974d4b1",
      "2605fe8bd0e447b3bca49d8889dc2435",
      "861e9f833ca548349cd34036cacc74d5",
      "7e723e48a2974f4a8ac045aaa3e2d4b6",
      "ccafe0f8c688423eb0ee41bea6f76a30",
      "8594b8649f3a4539b839ec874917fd2e"
     ]
    },
    "execution": {
     "iopub.execute_input": "2025-05-20T07:10:08.153589Z",
     "iopub.status.busy": "2025-05-20T07:10:08.153183Z",
     "iopub.status.idle": "2025-05-20T07:22:50.209977Z",
     "shell.execute_reply": "2025-05-20T07:22:50.209396Z",
     "shell.execute_reply.started": "2025-05-20T07:10:08.153571Z"
    },
    "id": "y-kPsdDnKmxa",
    "outputId": "60527510-cbc3-4f9d-8827-bc71090b0ce6"
   },
   "outputs": [],
   "source": [
    "from transformers import AutoTokenizer\n",
    "\n",
    "#Tokenizer\n",
    "tokenizer = AutoTokenizer.from_pretrained(\"roberta-base\")\n",
    "\n",
    "#Tokenization function\n",
    "def tokenize_function(example):\n",
    "    return tokenizer(example[\"text\"], padding=\"max_length\", truncation=True, max_length=512)\n",
    "\n",
    "tokenized_train = dataset[\"train\"].map(tokenize_function, batched=True)\n",
    "tokenized_val = dataset[\"validation\"].map(tokenize_function, batched=True)\n",
    "tokenized_test = dataset[\"test\"].map(tokenize_function, batched=True)\n",
    "\n"
   ]
  },
  {
   "cell_type": "code",
   "execution_count": null,
   "metadata": {
    "colab": {
     "base_uri": "https://localhost:8080/",
     "height": 391,
     "referenced_widgets": [
      "77e510c9376f4b0398053f0be0a490f3"
     ]
    },
    "execution": {
     "iopub.execute_input": "2025-05-20T07:22:50.211115Z",
     "iopub.status.busy": "2025-05-20T07:22:50.210824Z",
     "iopub.status.idle": "2025-05-20T07:23:06.537359Z",
     "shell.execute_reply": "2025-05-20T07:23:06.536545Z",
     "shell.execute_reply.started": "2025-05-20T07:22:50.21109Z"
    },
    "id": "Bp7MwQh8IZpR",
    "outputId": "3c7d1cdf-f4ef-41e1-9c3a-6a54ff3d599d"
   },
   "outputs": [],
   "source": [
    "# Metrics\n",
    "\n",
    "from sklearn.metrics import accuracy_score, precision_recall_fscore_support\n",
    "import numpy as np\n",
    "\n",
    "def compute_metrics(pred):\n",
    "    preds = np.argmax(pred.predictions, axis=1)\n",
    "    labels = pred.label_ids\n",
    "    precision, recall, f1, _ = precision_recall_fscore_support(labels, preds, average='weighted')\n",
    "    acc = accuracy_score(labels, preds)\n",
    "    return {\n",
    "        'accuracy': acc,\n",
    "        'f1': f1,\n",
    "        'precision': precision,\n",
    "        'recall': recall\n",
    "    }\n"
   ]
  },
  {
   "cell_type": "code",
   "execution_count": null,
   "metadata": {
    "colab": {
     "base_uri": "https://localhost:8080/",
     "height": 363,
     "referenced_widgets": [
      "66db11a419344715b315f45a6c3a9053"
     ]
    },
    "execution": {
     "iopub.execute_input": "2025-05-20T07:23:06.538769Z",
     "iopub.status.busy": "2025-05-20T07:23:06.538202Z",
     "iopub.status.idle": "2025-05-20T07:23:09.374203Z",
     "shell.execute_reply": "2025-05-20T07:23:09.373682Z",
     "shell.execute_reply.started": "2025-05-20T07:23:06.538744Z"
    },
    "id": "w4W7haf4IcDF",
    "outputId": "ce8fd680-dcb0-41de-fe84-7c03c8adc4cf"
   },
   "outputs": [],
   "source": [
    "# Model\n",
    "\n",
    "from transformers import AutoModelForSequenceClassification\n",
    "\n",
    "# Getting mapping  dataset\n",
    "label_list = tokenized_train.features[\"label\"].names\n",
    "label2id = {label: i for i, label in enumerate(label_list)}\n",
    "id2label = {i: label for i, label in enumerate(label_list)}\n",
    "\n",
    "model = AutoModelForSequenceClassification.from_pretrained(\n",
    "    \"roberta-base\",\n",
    "    num_labels=11,\n",
    "    id2label=id2label,\n",
    "    label2id=label2id\n",
    ")"
   ]
  },
  {
   "cell_type": "code",
   "execution_count": null,
   "metadata": {
    "execution": {
     "iopub.execute_input": "2025-05-20T07:23:09.381784Z",
     "iopub.status.busy": "2025-05-20T07:23:09.381468Z",
     "iopub.status.idle": "2025-05-20T07:23:10.890701Z",
     "shell.execute_reply": "2025-05-20T07:23:10.889977Z",
     "shell.execute_reply.started": "2025-05-20T07:23:09.381767Z"
    },
    "id": "RSUo7p7JIsmo",
    "outputId": "ccfaee5f-dbec-4949-fe08-79d08a0a4ec2"
   },
   "outputs": [],
   "source": [
    "# Training arguments\n",
    "\n",
    "from transformers import TrainingArguments, Trainer, DataCollatorWithPadding\n",
    "\n",
    "training_args = TrainingArguments(\n",
    "    output_dir=\"./results_arxiv\",\n",
    "    eval_strategy=\"epoch\",\n",
    "    learning_rate=1e-5,\n",
    "    per_device_train_batch_size=32,\n",
    "    per_device_eval_batch_size=32,\n",
    "    num_train_epochs=10,\n",
    "    weight_decay=0.001,\n",
    "    save_total_limit=2,\n",
    "    load_best_model_at_end=True,\n",
    "    logging_dir=\"./logs\",\n",
    "    logging_steps=100,\n",
    "    fp16=True,\n",
    "    warmup_ratio = 0.1,\n",
    "    save_strategy=\"epoch\",\n",
    "    run_name=\"arxiv-classification\",\n",
    "    report_to=None,\n",
    ")"
   ]
  },
  {
   "cell_type": "code",
   "execution_count": null,
   "metadata": {
    "execution": {
     "iopub.execute_input": "2025-05-20T07:23:10.891879Z",
     "iopub.status.busy": "2025-05-20T07:23:10.891605Z",
     "iopub.status.idle": "2025-05-20T07:23:10.895693Z",
     "shell.execute_reply": "2025-05-20T07:23:10.894924Z",
     "shell.execute_reply.started": "2025-05-20T07:23:10.891854Z"
    },
    "id": "599d17aa-74cd-442a-a53d-4597eedf16ee"
   },
   "outputs": [],
   "source": [
    "from transformers import DataCollatorWithPadding\n",
    "\n",
    "data_collator = DataCollatorWithPadding(tokenizer=tokenizer)"
   ]
  },
  {
   "cell_type": "code",
   "execution_count": null,
   "metadata": {
    "execution": {
     "iopub.execute_input": "2025-05-20T07:23:10.896789Z",
     "iopub.status.busy": "2025-05-20T07:23:10.896498Z",
     "iopub.status.idle": "2025-05-20T07:23:11.521148Z",
     "shell.execute_reply": "2025-05-20T07:23:11.520622Z",
     "shell.execute_reply.started": "2025-05-20T07:23:10.896765Z"
    },
    "id": "ziMcE-EZVRSg",
    "outputId": "50ea604b-a6bc-40e4-b29d-ca63cf77658e"
   },
   "outputs": [],
   "source": [
    "from transformers import EarlyStoppingCallback\n",
    "\n",
    "trainer = Trainer(\n",
    "    model=model,\n",
    "    args=training_args,\n",
    "    train_dataset=tokenized_train,\n",
    "    eval_dataset=tokenized_val,\n",
    "    compute_metrics=compute_metrics,\n",
    "    data_collator=data_collator,\n",
    "    callbacks=[EarlyStoppingCallback(early_stopping_patience=2)],\n",
    "    tokenizer=tokenizer\n",
    ")"
   ]
  },
  {
   "cell_type": "code",
   "execution_count": null,
   "metadata": {
    "execution": {
     "iopub.execute_input": "2025-05-20T07:23:11.521887Z",
     "iopub.status.busy": "2025-05-20T07:23:11.521708Z",
     "iopub.status.idle": "2025-05-20T11:35:25.086131Z",
     "shell.execute_reply": "2025-05-20T11:35:25.085549Z",
     "shell.execute_reply.started": "2025-05-20T07:23:11.521873Z"
    },
    "id": "WO6yzBj8VXVU",
    "outputId": "69756fb0-fdfe-4ac5-94d9-badf2546050b"
   },
   "outputs": [],
   "source": [
    "trainer.train()"
   ]
  },
  {
   "cell_type": "code",
   "execution_count": null,
   "metadata": {
    "colab": {
     "base_uri": "https://localhost:8080/",
     "height": 697
    },
    "execution": {
     "iopub.execute_input": "2025-05-20T11:35:25.087195Z",
     "iopub.status.busy": "2025-05-20T11:35:25.086939Z",
     "iopub.status.idle": "2025-05-20T11:36:12.970198Z",
     "shell.execute_reply": "2025-05-20T11:36:12.969461Z",
     "shell.execute_reply.started": "2025-05-20T11:35:25.087177Z"
    },
    "id": "3vmK0Z_wTEX_",
    "outputId": "c2665d65-aa1a-4132-d111-b85722f05f1a"
   },
   "outputs": [],
   "source": [
    "from sklearn.metrics import classification_report\n",
    "\n",
    "# Get predictions on the validation set\n",
    "predictions = trainer.predict(tokenized_val)\n",
    "\n",
    "# Extract logits (probabilities) and true labels\n",
    "preds = predictions.predictions.argmax(axis=1)\n",
    "labels = predictions.label_ids\n",
    "\n",
    "\n",
    "print(classification_report(labels, preds, target_names=label_list))"
   ]
  },
  {
   "cell_type": "code",
   "execution_count": null,
   "metadata": {
    "colab": {
     "base_uri": "https://localhost:8080/",
     "height": 815
    },
    "execution": {
     "iopub.execute_input": "2025-05-20T11:36:12.971422Z",
     "iopub.status.busy": "2025-05-20T11:36:12.971053Z",
     "iopub.status.idle": "2025-05-20T11:36:13.343465Z",
     "shell.execute_reply": "2025-05-20T11:36:13.342499Z",
     "shell.execute_reply.started": "2025-05-20T11:36:12.971395Z"
    },
    "id": "7awBQgM7YddL",
    "outputId": "475746d6-1458-4f9e-d8fb-5bc784e375be"
   },
   "outputs": [],
   "source": [
    "from sklearn.metrics import confusion_matrix, ConfusionMatrixDisplay\n",
    "import matplotlib.pyplot as plt\n",
    "\n",
    "# Constructing the confusion matrix\n",
    "cm = confusion_matrix(labels, preds)\n",
    "\n",
    "# Visualizing the matrix\n",
    "disp = ConfusionMatrixDisplay(confusion_matrix=cm, display_labels=label_list)\n",
    "fig, ax = plt.subplots(figsize=(10, 10))\n",
    "disp.plot(ax=ax, cmap='Blues', xticks_rotation=45)\n",
    "plt.title(\"Confusion Matrix\")\n",
    "plt.show()"
   ]
  },
  {
   "cell_type": "code",
   "execution_count": null,
   "metadata": {
    "colab": {
     "base_uri": "https://localhost:8080/",
     "height": 697
    },
    "execution": {
     "iopub.execute_input": "2025-05-20T11:36:13.344752Z",
     "iopub.status.busy": "2025-05-20T11:36:13.344428Z",
     "iopub.status.idle": "2025-05-20T11:37:01.495515Z",
     "shell.execute_reply": "2025-05-20T11:37:01.494728Z",
     "shell.execute_reply.started": "2025-05-20T11:36:13.344718Z"
    },
    "id": "k7YIW91zYqeQ",
    "outputId": "e28b496c-7246-4f61-802c-58473e9824f9"
   },
   "outputs": [],
   "source": [
    "test_predictions = trainer.predict(tokenized_test)\n",
    "test_preds = test_predictions.predictions.argmax(axis=1)\n",
    "test_labels = test_predictions.label_ids\n",
    "\n",
    "print(classification_report(test_labels, test_preds, target_names=label_list))"
   ]
  }
 ],
 "metadata": {
  "accelerator": "GPU",
  "colab": {
   "gpuType": "T4",
   "name": "accuracy_86 (1)",
   "provenance": []
  },
  "kaggle": {
   "accelerator": "none",
   "dataSources": [],
   "dockerImageVersionId": 31040,
   "isGpuEnabled": false,
   "isInternetEnabled": true,
   "language": "python",
   "sourceType": "notebook"
  },
  "kernelspec": {
   "display_name": "Python 3",
   "language": "python",
   "name": "python3"
  },
  "language_info": {
   "codemirror_mode": {
    "name": "ipython",
    "version": 3
   },
   "file_extension": ".py",
   "mimetype": "text/x-python",
   "name": "python",
   "nbconvert_exporter": "python",
   "pygments_lexer": "ipython3",
   "version": "3.11.11"
  }
 },
 "nbformat": 4,
 "nbformat_minor": 0
}
